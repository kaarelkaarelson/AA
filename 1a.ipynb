{
  "cells": [
    {
      "cell_type": "markdown",
      "metadata": {
        "id": "view-in-github",
        "colab_type": "text"
      },
      "source": [
        "<a href=\"https://colab.research.google.com/github/kaarelkaarelson/AA/blob/master/1a.ipynb\" target=\"_parent\"><img src=\"https://colab.research.google.com/assets/colab-badge.svg\" alt=\"Open In Colab\"/></a>"
      ]
    },
    {
      "cell_type": "code",
      "execution_count": 109,
      "metadata": {
        "colab": {
          "base_uri": "https://localhost:8080/"
        },
        "id": "Xt2HzqWnuUdS",
        "outputId": "dd34c0ae-3409-4259-81d5-27c13400c4bb"
      },
      "outputs": [
        {
          "output_type": "stream",
          "name": "stdout",
          "text": [
            "Drive already mounted at /content/drive; to attempt to forcibly remount, call drive.mount(\"/content/drive\", force_remount=True).\n"
          ]
        }
      ],
      "source": [
        "# Google Colab setup\n",
        "import os\n",
        "from google.colab import drive\n",
        "drive.mount('/content/drive')\n",
        "os.chdir(\"/content/drive/My Drive/Colab Notebooks/\")"
      ]
    },
    {
      "cell_type": "code",
      "execution_count": 110,
      "metadata": {
        "colab": {
          "base_uri": "https://localhost:8080/"
        },
        "id": "C1rW9QJBH2eS",
        "outputId": "b33686b5-672c-48ef-e696-fbaa4024a778"
      },
      "outputs": [
        {
          "output_type": "stream",
          "name": "stdout",
          "text": [
            "Requirement already satisfied: datasets in /usr/local/lib/python3.10/dist-packages (2.14.5)\n",
            "Requirement already satisfied: numpy>=1.17 in /usr/local/lib/python3.10/dist-packages (from datasets) (1.23.5)\n",
            "Requirement already satisfied: pyarrow>=8.0.0 in /usr/local/lib/python3.10/dist-packages (from datasets) (9.0.0)\n",
            "Requirement already satisfied: dill<0.3.8,>=0.3.0 in /usr/local/lib/python3.10/dist-packages (from datasets) (0.3.7)\n",
            "Requirement already satisfied: pandas in /usr/local/lib/python3.10/dist-packages (from datasets) (1.5.3)\n",
            "Requirement already satisfied: requests>=2.19.0 in /usr/local/lib/python3.10/dist-packages (from datasets) (2.31.0)\n",
            "Requirement already satisfied: tqdm>=4.62.1 in /usr/local/lib/python3.10/dist-packages (from datasets) (4.66.1)\n",
            "Requirement already satisfied: xxhash in /usr/local/lib/python3.10/dist-packages (from datasets) (3.3.0)\n",
            "Requirement already satisfied: multiprocess in /usr/local/lib/python3.10/dist-packages (from datasets) (0.70.15)\n",
            "Requirement already satisfied: fsspec[http]<2023.9.0,>=2023.1.0 in /usr/local/lib/python3.10/dist-packages (from datasets) (2023.6.0)\n",
            "Requirement already satisfied: aiohttp in /usr/local/lib/python3.10/dist-packages (from datasets) (3.8.5)\n",
            "Requirement already satisfied: huggingface-hub<1.0.0,>=0.14.0 in /usr/local/lib/python3.10/dist-packages (from datasets) (0.17.1)\n",
            "Requirement already satisfied: packaging in /usr/local/lib/python3.10/dist-packages (from datasets) (23.1)\n",
            "Requirement already satisfied: pyyaml>=5.1 in /usr/local/lib/python3.10/dist-packages (from datasets) (6.0.1)\n",
            "Requirement already satisfied: attrs>=17.3.0 in /usr/local/lib/python3.10/dist-packages (from aiohttp->datasets) (23.1.0)\n",
            "Requirement already satisfied: charset-normalizer<4.0,>=2.0 in /usr/local/lib/python3.10/dist-packages (from aiohttp->datasets) (3.2.0)\n",
            "Requirement already satisfied: multidict<7.0,>=4.5 in /usr/local/lib/python3.10/dist-packages (from aiohttp->datasets) (6.0.4)\n",
            "Requirement already satisfied: async-timeout<5.0,>=4.0.0a3 in /usr/local/lib/python3.10/dist-packages (from aiohttp->datasets) (4.0.3)\n",
            "Requirement already satisfied: yarl<2.0,>=1.0 in /usr/local/lib/python3.10/dist-packages (from aiohttp->datasets) (1.9.2)\n",
            "Requirement already satisfied: frozenlist>=1.1.1 in /usr/local/lib/python3.10/dist-packages (from aiohttp->datasets) (1.4.0)\n",
            "Requirement already satisfied: aiosignal>=1.1.2 in /usr/local/lib/python3.10/dist-packages (from aiohttp->datasets) (1.3.1)\n",
            "Requirement already satisfied: filelock in /usr/local/lib/python3.10/dist-packages (from huggingface-hub<1.0.0,>=0.14.0->datasets) (3.12.2)\n",
            "Requirement already satisfied: typing-extensions>=3.7.4.3 in /usr/local/lib/python3.10/dist-packages (from huggingface-hub<1.0.0,>=0.14.0->datasets) (4.5.0)\n",
            "Requirement already satisfied: idna<4,>=2.5 in /usr/local/lib/python3.10/dist-packages (from requests>=2.19.0->datasets) (3.4)\n",
            "Requirement already satisfied: urllib3<3,>=1.21.1 in /usr/local/lib/python3.10/dist-packages (from requests>=2.19.0->datasets) (2.0.4)\n",
            "Requirement already satisfied: certifi>=2017.4.17 in /usr/local/lib/python3.10/dist-packages (from requests>=2.19.0->datasets) (2023.7.22)\n",
            "Requirement already satisfied: python-dateutil>=2.8.1 in /usr/local/lib/python3.10/dist-packages (from pandas->datasets) (2.8.2)\n",
            "Requirement already satisfied: pytz>=2020.1 in /usr/local/lib/python3.10/dist-packages (from pandas->datasets) (2023.3.post1)\n",
            "Requirement already satisfied: six>=1.5 in /usr/local/lib/python3.10/dist-packages (from python-dateutil>=2.8.1->pandas->datasets) (1.16.0)\n"
          ]
        },
        {
          "output_type": "stream",
          "name": "stderr",
          "text": [
            "[nltk_data] Downloading package punkt to /root/nltk_data...\n",
            "[nltk_data]   Package punkt is already up-to-date!\n"
          ]
        },
        {
          "output_type": "execute_result",
          "data": {
            "text/plain": [
              "True"
            ]
          },
          "metadata": {},
          "execution_count": 110
        }
      ],
      "source": [
        "# installing packages\n",
        "!pip3 install datasets\n",
        "\n",
        "# imports\n",
        "import string\n",
        "from torch.utils.data import Subset\n",
        "from datasets import load_dataset\n",
        "import nltk\n",
        "\n",
        "nltk.download('punkt')"
      ]
    },
    {
      "cell_type": "code",
      "execution_count": 111,
      "metadata": {
        "id": "apuN0UvKg0W2"
      },
      "outputs": [],
      "source": [
        "dataset = load_dataset(\"copenlu/answerable_tydiqa\")\n",
        "\n",
        "train_dataset = dataset[\"train\"]\n",
        "test_dataset = dataset[\"validation\"]\n",
        "\n",
        "features = ['arabic', 'bengali', 'indonesian']"
      ]
    },
    {
      "cell_type": "code",
      "execution_count": 112,
      "metadata": {
        "id": "uAw1LYwn2lsr"
      },
      "outputs": [],
      "source": [
        "# cleaning data\n",
        "train = Subset(train_dataset, indices=[i for i in range(len(train_dataset)) if train_dataset[i]['language'] in features])\n",
        "test = Subset(test_dataset, indices=[i for i in range(len(test_dataset)) if test_dataset[i]['language'] in features])"
      ]
    },
    {
      "cell_type": "code",
      "execution_count": 134,
      "metadata": {
        "id": "fyRwEppHN6hH"
      },
      "outputs": [],
      "source": [
        "def getFeatureStats(dataset, feature):\n",
        "  stats = dict()\n",
        "\n",
        "  for row in dataset:\n",
        "    value = row[feature]\n",
        "    if stats.get(value) != None:\n",
        "      stats[value] += 1\n",
        "    else:\n",
        "      stats[value] = 1\n",
        "\n",
        "  stats = sorted(stats.items(), key=lambda x:x[1], reverse=True)\n",
        "\n",
        "  return stats\n",
        "\n",
        "def getWordStats(dataset, language):\n",
        "  stats = {}\n",
        "\n",
        "  for row in dataset:\n",
        "    if row['language'] in language:\n",
        "      text = row['document_plaintext']\n",
        "      tokens = nltk.tokenize.word_tokenize(text)\n",
        "      for token in tokens:\n",
        "        if stats.get(token) != None:\n",
        "          stats[token] += 1\n",
        "        else:\n",
        "          stats[token] = 1\n",
        "\n",
        "  stats = {word: count for word, count in stats.items() if word not in string.punctuation} # remove punctuations\n",
        "  stats = sorted(stats.items(), key=lambda x:x[1], reverse=True)\n",
        "\n",
        "  return stats"
      ]
    },
    {
      "cell_type": "code",
      "execution_count": 136,
      "metadata": {
        "id": "LKLkOiEoc8iA",
        "colab": {
          "base_uri": "https://localhost:8080/"
        },
        "outputId": "e48c0bd6-4103-4632-e301-714917ebe519"
      },
      "outputs": [
        {
          "output_type": "stream",
          "name": "stdout",
          "text": [
            "[('arabic', 29598), ('indonesian', 11394), ('bengali', 4779)]\n",
            "[('arabic', 1902), ('indonesian', 1191), ('bengali', 224)]\n",
            "[('في', 89705), ('من', 61719), ('على', 28062), ('إلى', 22088), ('تصنيف', 15655)]\n",
            "[('ও', 5195), ('এবং', 5102), ('এই', 3351), ('হয়।', 2916), ('তিনি', 2912)]\n",
            "[('yang', 24077), ('dan', 23741), ('di', 16604), ('dari', 9819), ('dengan', 9085)]\n"
          ]
        }
      ],
      "source": [
        "# count of entries\n",
        "freq_train = getFeatureStats(train, 'language')\n",
        "freq_test = getFeatureStats(test, 'language')\n",
        "\n",
        "print(freq_train)\n",
        "print(freq_test)\n",
        "\n",
        "# top 5 words\n",
        "words_arabic = getWordStats(train, 'arabic')[0:5]\n",
        "words_bengali = getWordStats(train, 'bengali')[0:5]\n",
        "words_indonesian = getWordStats(train, 'indonesian')[0:5]\n",
        "\n",
        "print(words_arabic)\n",
        "print(words_bengali)\n",
        "print(words_indonesian)\n",
        "\n",
        "# To overleaf: table in the appendix of the document."
      ]
    }
  ],
  "metadata": {
    "colab": {
      "provenance": [],
      "include_colab_link": true
    },
    "kernelspec": {
      "display_name": "Python 3",
      "name": "python3"
    },
    "language_info": {
      "name": "python"
    }
  },
  "nbformat": 4,
  "nbformat_minor": 0
}